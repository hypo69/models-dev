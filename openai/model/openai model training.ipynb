{
 "cells": [
  {
   "cell_type": "code",
   "execution_count": 1,
   "id": "548db188-d5c2-4e87-9d1d-ec1305a37cdf",
   "metadata": {
    "jupyter": {
     "source_hidden": true
    }
   },
   "outputs": [
    {
     "name": "stdin",
     "output_type": "stream",
     "text": [
      "Enter KeePass master password:  ········\n"
     ]
    }
   ],
   "source": [
    "import header\n",
    "import ipywidgets as widgets\n",
    "from IPython.display import display\n",
    "import os\n",
    "import zipfile\n",
    "from datetime import datetime\n",
    "from src.ai.openai.model.training import Model\n",
    "from src.settings import gs\n",
    "from src.utils import j_loads, j_dumps\n",
    "from src.utils import pprint\n",
    "# Initialize the model\n",
    "model = Model()"
   ]
  },
  {
   "cell_type": "code",
   "execution_count": 2,
   "id": "2d7f4c1e-c23e-4f2b-bba1-5e702f8c123d",
   "metadata": {},
   "outputs": [
    {
     "data": {
      "application/vnd.jupyter.widget-view+json": {
       "model_id": "ee9cdf3ffc3a4388a6b5bba3ba6ad88b",
       "version_major": 2,
       "version_minor": 0
      },
      "text/plain": [
       "FileUpload(value=(), accept='.txt', description='Upload', multiple=True)"
      ]
     },
     "metadata": {},
     "output_type": "display_data"
    },
    {
     "data": {
      "application/vnd.jupyter.widget-view+json": {
       "model_id": "4d4ee30f9a8b4bde8b435daffa533a1e",
       "version_major": 2,
       "version_minor": 0
      },
      "text/plain": [
       "Button(description='Select Dataset', style=ButtonStyle())"
      ]
     },
     "metadata": {},
     "output_type": "display_data"
    },
    {
     "data": {
      "application/vnd.jupyter.widget-view+json": {
       "model_id": "50f7ed588c264ede95669c73bcdf2073",
       "version_major": 2,
       "version_minor": 0
      },
      "text/plain": [
       "Button(description='Train Model', style=ButtonStyle())"
      ]
     },
     "metadata": {},
     "output_type": "display_data"
    },
    {
     "data": {
      "application/vnd.jupyter.widget-view+json": {
       "model_id": "56b0febfbdb642028edee389b4351831",
       "version_major": 2,
       "version_minor": 0
      },
      "text/plain": [
       "Button(description='Test Model', style=ButtonStyle())"
      ]
     },
     "metadata": {},
     "output_type": "display_data"
    },
    {
     "data": {
      "application/vnd.jupyter.widget-view+json": {
       "model_id": "7934f091234141928ef7ebf34916b994",
       "version_major": 2,
       "version_minor": 0
      },
      "text/plain": [
       "Button(description='Save Job ID', style=ButtonStyle())"
      ]
     },
     "metadata": {},
     "output_type": "display_data"
    },
    {
     "data": {
      "application/vnd.jupyter.widget-view+json": {
       "model_id": "3197fe70cc88483cb9c148fc44ce7595",
       "version_major": 2,
       "version_minor": 0
      },
      "text/plain": [
       "Button(description='Create Vector Store', style=ButtonStyle())"
      ]
     },
     "metadata": {},
     "output_type": "display_data"
    },
    {
     "data": {
      "application/vnd.jupyter.widget-view+json": {
       "model_id": "4ff3ac3e74d541fe9d3b685c09bc3ce1",
       "version_major": 2,
       "version_minor": 0
      },
      "text/plain": [
       "Button(description='Upload Files to Vector Store', style=ButtonStyle())"
      ]
     },
     "metadata": {},
     "output_type": "display_data"
    },
    {
     "data": {
      "application/vnd.jupyter.widget-view+json": {
       "model_id": "5a6b19be9b524f719f61eb83d2773b90",
       "version_major": 2,
       "version_minor": 0
      },
      "text/plain": [
       "Button(description='Update Assistant', style=ButtonStyle())"
      ]
     },
     "metadata": {},
     "output_type": "display_data"
    },
    {
     "data": {
      "application/vnd.jupyter.widget-view+json": {
       "model_id": "19aa936a2a5a49daad847b28192a1dbe",
       "version_major": 2,
       "version_minor": 0
      },
      "text/plain": [
       "Output()"
      ]
     },
     "metadata": {},
     "output_type": "display_data"
    }
   ],
   "source": [
    "# Widgets\n",
    "file_upload = widgets.FileUpload(accept='.txt', multiple=True)\n",
    "dataset_button = widgets.Button(description='Select Dataset')\n",
    "train_button = widgets.Button(description='Train Model')\n",
    "test_button = widgets.Button(description='Test Model')\n",
    "save_button = widgets.Button(description='Save Job ID')\n",
    "create_vector_store_button = widgets.Button(description='Create Vector Store')\n",
    "upload_files_button = widgets.Button(description='Upload Files to Vector Store')\n",
    "update_assistant_button = widgets.Button(description='Update Assistant')\n",
    "output = widgets.Output()\n",
    "\n",
    "def on_upload_change(change):\n",
    "    with output:\n",
    "        output.clear_output()\n",
    "        if file_upload.value:\n",
    "            files = [file for file in file_upload.value.values()]\n",
    "            display(files)\n",
    "\n",
    "file_upload.observe(on_upload_change, names='value')\n",
    "\n",
    "def on_dataset_button_clicked(b):\n",
    "    with output:\n",
    "        output.clear_output()\n",
    "        path_to_dir = './dataset/'  # Path to directory with dataset\n",
    "        dataset = select_dataset_and_archive(path_to_dir, positive=True)\n",
    "        if dataset:\n",
    "            print(f\"Dataset selected and archived: {len(dataset)} items\")\n",
    "        else:\n",
    "            print(\"Failed to select or archive dataset\")\n",
    "\n",
    "def on_train_button_clicked(b):\n",
    "    with output:\n",
    "        output.clear_output()\n",
    "        dataset = select_dataset_and_archive('./dataset/', positive=True)\n",
    "        if dataset:\n",
    "            job_id = model.train(dataset, positive=True)\n",
    "            if job_id:\n",
    "                print(f\"Training started, Job ID: {job_id}\")\n",
    "            else:\n",
    "                print(\"Failed to start training\")\n",
    "        else:\n",
    "            print(\"Failed to select dataset\")\n",
    "\n",
    "def on_test_button_clicked(b):\n",
    "    with output:\n",
    "        output.clear_output()\n",
    "        test_data = [\n",
    "            {\"name\": \"Test 1\", \"text\": \"Sample text for testing\", \"label\": \"positive\"}\n",
    "        ]  # Replace with real test data\n",
    "        predictions = model.test(test_data)\n",
    "        if predictions:\n",
    "            for entry, prediction in zip(test_data, predictions):\n",
    "                print(f\"Page: {entry['name']}, Prediction: {prediction}, Actual: {entry['label']}\")\n",
    "        else:\n",
    "            print(\"Failed to test the model\")\n",
    "\n",
    "def on_save_button_clicked(b):\n",
    "    with output:\n",
    "        output.clear_output()\n",
    "        job_id = model.current_job_id\n",
    "        if job_id:\n",
    "            model.save_job_id(job_id, \"Training job description\")\n",
    "            print(f\"Job ID {job_id} saved successfully\")\n",
    "        else:\n",
    "            print(\"No Job ID to save\")\n",
    "\n",
    "def on_create_vector_store_button_clicked(b):\n",
    "    with output:\n",
    "        output.clear_output()\n",
    "        client = ...  # Initialize your API client\n",
    "        name = 'New Vector Store'  # Name of the vector store\n",
    "        file_paths = []  # Add file paths if needed\n",
    "        vector_store_id = model.create_vector_store(client, name, file_paths)\n",
    "        if vector_store_id:\n",
    "            print(f\"Vector store created, ID: {vector_store_id}\")\n",
    "        else:\n",
    "            print(\"Failed to create vector store\")\n",
    "\n",
    "def on_upload_files_button_clicked(b):\n",
    "    with output:\n",
    "        output.clear_output()\n",
    "        client = ...  # Initialize your API client\n",
    "        vector_store_id = 'your_vector_store_id'  # Replace with your vector store ID\n",
    "        file_paths = []  # Add file paths\n",
    "        model.upload_files_to_vector_store(client, vector_store_id, file_paths)\n",
    "        print(\"Files uploaded to vector store\")\n",
    "\n",
    "def on_update_assistant_button_clicked(b):\n",
    "    with output:\n",
    "        output.clear_output()\n",
    "        client = ...  # Initialize your API client\n",
    "        assistant_id = model.assistant_id  # Use the assistant ID from the model\n",
    "        vector_store_id = 'your_vector_store_id'  # Replace with your vector store ID\n",
    "        model.update_assistant_with_file_search(client, assistant_id, vector_store_id)\n",
    "        print(\"Assistant updated successfully\")\n",
    "\n",
    "def select_dataset_and_archive(path_to_dir: str, positive: bool = True) -> list[dict[str, str]]:\n",
    "    \"\"\"Select a dataset for training the model and archive the files.\n",
    "\n",
    "    @param path_to_dir: Path to the directory containing the dataset files.\n",
    "    @param positive: Boolean flag indicating if the label should be positive (True) or negative (False).\n",
    "    @return: List of dictionaries containing 'text', 'label', and 'name' of each file.\n",
    "\n",
    "    Example:\n",
    "        dataset = select_dataset_and_archive('./dataset/', positive=True)\n",
    "    \"\"\"\n",
    "    dataset = []\n",
    "    for filename in os.listdir(path_to_dir):\n",
    "        if filename.endswith('.txt'):\n",
    "            with open(os.path.join(path_to_dir, filename), 'r', encoding='utf-8') as file:\n",
    "                text = file.read()\n",
    "                dataset.append({\"text\": text, \"label\": \"positive\" if positive else \"negative\", \"name\": filename})\n",
    "    # Archive files\n",
    "    archive_files(path_to_dir)\n",
    "    return dataset\n",
    "\n",
    "def archive_files(directory: str):\n",
    "    \"\"\"Archive all files in the specified directory with the current date in the filename.\n",
    "\n",
    "    @param directory: Directory containing the files to archive.\n",
    "    \"\"\"\n",
    "    current_date = datetime.now().strftime('%Y-%m-%d')\n",
    "    archive_filename = f\"{current_date}_files.zip\"\n",
    "    with zipfile.ZipFile(archive_filename, 'w') as zipf:\n",
    "        for filename in os.listdir(directory):\n",
    "            if filename.endswith('.txt'):\n",
    "                zipf.write(os.path.join(directory, filename), filename)\n",
    "    print(\"Files archived successfully.\")\n",
    "\n",
    "# Display widgets\n",
    "display(file_upload)\n",
    "display(dataset_button)\n",
    "display(train_button)\n",
    "display(test_button)\n",
    "display(save_button)\n",
    "display(create_vector_store_button)\n",
    "display(upload_files_button)\n",
    "display(update_assistant_button)\n",
    "display(output)\n",
    "\n",
    "# Bind event handlers\n",
    "dataset_button.on_click(on_dataset_button_clicked)\n",
    "train_button.on_click(on_train_button_clicked)\n",
    "test_button.on_click(on_test_button_clicked)\n",
    "save_button.on_click(on_save_button_clicked)\n",
    "create_vector_store_button.on_click(on_create_vector_store_button_clicked)\n",
    "upload_files_button.on_click(on_upload_files_button_clicked)\n",
    "update_assistant_button.on_click(on_update_assistant_button_clicked)\n"
   ]
  },
  {
   "cell_type": "code",
   "execution_count": 3,
   "id": "d4a0d480-365b-4d52-bb75-a2fb5469e249",
   "metadata": {},
   "outputs": [],
   "source": [
    "thread = model.client.beta.threads.create()"
   ]
  },
  {
   "cell_type": "code",
   "execution_count": 4,
   "id": "d563b92a-8744-4293-b32b-362a4e8df392",
   "metadata": {},
   "outputs": [],
   "source": [
    "message = model.client.beta.threads.messages.create(\n",
    "  thread_id=thread.id,\n",
    "  role=\"user\",\n",
    "  content=\"Привет?\"\n",
    ")"
   ]
  },
  {
   "cell_type": "code",
   "execution_count": 5,
   "id": "0284cc11-5f35-45db-ba1a-7f045360ba38",
   "metadata": {},
   "outputs": [
    {
     "name": "stdout",
     "output_type": "stream",
     "text": [
      "Message(id='msg_uKjiCQ4dkYhpAq8PK9QzFsc4', assistant_id=None, attachments=[], completed_at=None, content=[TextContentBlock(text=Text(annotations=[], value='Привет?'), type='text')], created_at=1721727924, incomplete_at=None, incomplete_details=None, metadata={}, object='thread.message', role='user', run_id=None, status=None, thread_id='thread_ugfttTOeQeVUeqHLachlB9j2')\n",
      "Class: Message\n",
      "['BaseModel']\n",
      "Bases: None\n",
      "Methods:\n",
      "_calculate_keys()\n",
      "_check_frozen()\n",
      "_copy_and_set_values()\n",
      "_get_value()\n",
      "_iter()\n",
      "construct()\n",
      "copy()\n",
      "dict()\n",
      "from_orm()\n",
      "json()\n",
      "model_construct()\n",
      "model_copy()\n",
      "model_dump()\n",
      "model_dump_json()\n",
      "model_json_schema()\n",
      "model_parametrized_name()\n",
      "model_post_init()\n",
      "model_rebuild()\n",
      "model_validate()\n",
      "model_validate_json()\n",
      "model_validate_strings()\n",
      "parse_file()\n",
      "parse_obj()\n",
      "parse_raw()\n",
      "schema()\n",
      "schema_json()\n",
      "to_dict()\n",
      "to_json()\n",
      "update_forward_refs()\n",
      "validate()\n",
      "Properties:\n",
      "_abc_impl = <_abc._abc_data object at 0x0000021C596D1180>\n",
      "assistant_id = None\n",
      "attachments = []\n",
      "completed_at = None\n",
      "content = [TextContentBlock(text=Text(annotations=[], value='Привет?'), type='text')]\n",
      "created_at = 1721727924\n",
      "id = msg_uKjiCQ4dkYhpAq8PK9QzFsc4\n",
      "incomplete_at = None\n",
      "incomplete_details = None\n",
      "metadata = {}\n",
      "model_computed_fields = {}\n",
      "model_config = {'extra': 'allow', 'defer_build': True}\n",
      "model_extra = {}\n",
      "model_fields = {'id': FieldInfo(annotation=str, required=True), 'assistant_id': FieldInfo(annotation=Union[str, NoneType], required=False, default=None), 'attachments': FieldInfo(annotation=Union[List[Attachment], NoneType], required=False, default=None), 'completed_at': FieldInfo(annotation=Union[int, NoneType], required=False, default=None), 'content': FieldInfo(annotation=List[Annotated[Union[ImageFileContentBlock, ImageURLContentBlock, TextContentBlock], PropertyInfo]], required=True), 'created_at': FieldInfo(annotation=int, required=True), 'incomplete_at': FieldInfo(annotation=Union[int, NoneType], required=False, default=None), 'incomplete_details': FieldInfo(annotation=Union[IncompleteDetails, NoneType], required=False, default=None), 'metadata': FieldInfo(annotation=Union[object, NoneType], required=False, default=None), 'object': FieldInfo(annotation=Literal['thread.message'], required=True), 'role': FieldInfo(annotation=Literal['user', 'assistant'], required=True), 'run_id': FieldInfo(annotation=Union[str, NoneType], required=False, default=None), 'status': FieldInfo(annotation=Literal['in_progress', 'incomplete', 'completed'], required=True), 'thread_id': FieldInfo(annotation=str, required=True)}\n",
      "model_fields_set = {'thread_id', 'metadata', 'id', 'object', 'run_id', 'role', 'attachments', 'content', 'created_at', 'assistant_id'}\n",
      "object = thread.message\n",
      "role = user\n",
      "run_id = None\n",
      "status = None\n",
      "thread_id = thread_ugfttTOeQeVUeqHLachlB9j2\n"
     ]
    }
   ],
   "source": [
    "pprint(message)"
   ]
  },
  {
   "cell_type": "code",
   "execution_count": 6,
   "id": "3833a9f5-43e9-4e22-8968-e70ffe9cbcae",
   "metadata": {},
   "outputs": [],
   "source": [
    "th = model.client.beta.threads.retrieve(thread.id)"
   ]
  },
  {
   "cell_type": "code",
   "execution_count": 7,
   "id": "c2134855-07fa-4ab6-956e-e376c3e4702e",
   "metadata": {},
   "outputs": [
    {
     "name": "stdout",
     "output_type": "stream",
     "text": [
      "Thread(id='thread_ugfttTOeQeVUeqHLachlB9j2', created_at=1721727924, metadata={}, object='thread', tool_resources=ToolResources(code_interpreter=ToolResourcesCodeInterpreter(file_ids=[]), file_search=None))\n",
      "Class: Thread\n",
      "['BaseModel']\n",
      "Bases: None\n",
      "Methods:\n",
      "_calculate_keys()\n",
      "_check_frozen()\n",
      "_copy_and_set_values()\n",
      "_get_value()\n",
      "_iter()\n",
      "construct()\n",
      "copy()\n",
      "dict()\n",
      "from_orm()\n",
      "json()\n",
      "model_construct()\n",
      "model_copy()\n",
      "model_dump()\n",
      "model_dump_json()\n",
      "model_json_schema()\n",
      "model_parametrized_name()\n",
      "model_post_init()\n",
      "model_rebuild()\n",
      "model_validate()\n",
      "model_validate_json()\n",
      "model_validate_strings()\n",
      "parse_file()\n",
      "parse_obj()\n",
      "parse_raw()\n",
      "schema()\n",
      "schema_json()\n",
      "to_dict()\n",
      "to_json()\n",
      "update_forward_refs()\n",
      "validate()\n",
      "Properties:\n",
      "_abc_impl = <_abc._abc_data object at 0x0000021C58D42880>\n",
      "created_at = 1721727924\n",
      "id = thread_ugfttTOeQeVUeqHLachlB9j2\n",
      "metadata = {}\n",
      "model_computed_fields = {}\n",
      "model_config = {'extra': 'allow', 'defer_build': True}\n",
      "model_extra = {}\n",
      "model_fields = {'id': FieldInfo(annotation=str, required=True), 'created_at': FieldInfo(annotation=int, required=True), 'metadata': FieldInfo(annotation=Union[object, NoneType], required=False, default=None), 'object': FieldInfo(annotation=Literal['thread'], required=True), 'tool_resources': FieldInfo(annotation=Union[ToolResources, NoneType], required=False, default=None)}\n",
      "model_fields_set = {'tool_resources', 'metadata', 'id', 'object', 'created_at'}\n",
      "object = thread\n",
      "tool_resources = ToolResources(code_interpreter=ToolResourcesCodeInterpreter(file_ids=[]), file_search=None)\n"
     ]
    }
   ],
   "source": [
    "pprint(th)"
   ]
  },
  {
   "cell_type": "code",
   "execution_count": 8,
   "id": "5967d908-039d-4872-af19-c0c0f04148d1",
   "metadata": {},
   "outputs": [
    {
     "name": "stdout",
     "output_type": "stream",
     "text": [
      "It seems you've uploaded multiple files. How would you like to proceed with these files? Would you like to extract specific information, analyze them, or apply any specific transformations to the content?\n",
      "-------------\n"
     ]
    }
   ],
   "source": [
    "with model.client.beta.threads.runs.stream(\n",
    "  thread_id=model.thread.id,\n",
    "  assistant_id=model.assistant.id\n",
    ") as stream:\n",
    "    response:str = ''\n",
    "    for text in stream.text_deltas:\n",
    "        response += text\n",
    "    pprint(response)\n",
    "    pprint('-------------')\n",
    "\n"
   ]
  },
  {
   "cell_type": "code",
   "execution_count": 9,
   "id": "9601d998-65d3-411a-b722-3af8f64e4182",
   "metadata": {},
   "outputs": [
    {
     "name": "stdout",
     "output_type": "stream",
     "text": [
      "<openai.resources.beta.threads.threads.Threads object at 0x0000021C716B3920>\n",
      "Class: Threads\n",
      "['SyncAPIResource']\n",
      "Bases: None\n",
      "Methods:\n",
      "_delete()\n",
      "_get()\n",
      "_get_api_list()\n",
      "_patch()\n",
      "_post()\n",
      "_put()\n",
      "_sleep()\n",
      "create()\n",
      "create_and_run()\n",
      "create_and_run_poll()\n",
      "create_and_run_stream()\n",
      "delete()\n",
      "retrieve()\n",
      "update()\n",
      "Properties:\n",
      "_client = <openai.OpenAI object at 0x0000021C57AC0BC0>\n",
      "messages = <openai.resources.beta.threads.messages.Messages object at 0x0000021C7146E630>\n",
      "runs = <openai.resources.beta.threads.runs.runs.Runs object at 0x0000021C71E1EBD0>\n",
      "with_raw_response = <openai.resources.beta.threads.threads.ThreadsWithRawResponse object at 0x0000021C71EAB2C0>\n",
      "with_streaming_response = <openai.resources.beta.threads.threads.ThreadsWithStreamingResponse object at 0x0000021C71E0B620>\n"
     ]
    }
   ],
   "source": [
    "pprint(model.client.beta.threads)"
   ]
  },
  {
   "cell_type": "code",
   "execution_count": 10,
   "id": "2436467c-572a-4515-a6a3-54a4e7c32374",
   "metadata": {
    "jupyter": {
     "source_hidden": true
    }
   },
   "outputs": [
    {
     "data": {
      "application/vnd.jupyter.widget-view+json": {
       "model_id": "10ddb814564c4498b9f624a4bf51d871",
       "version_major": 2,
       "version_minor": 0
      },
      "text/plain": [
       "FileUpload(value=(), accept='.txt', description='Upload', multiple=True)"
      ]
     },
     "metadata": {},
     "output_type": "display_data"
    },
    {
     "data": {
      "application/vnd.jupyter.widget-view+json": {
       "model_id": "fc17bc3301e748339a37ca5426b7f811",
       "version_major": 2,
       "version_minor": 0
      },
      "text/plain": [
       "Button(description='Select Dataset', style=ButtonStyle())"
      ]
     },
     "metadata": {},
     "output_type": "display_data"
    },
    {
     "data": {
      "application/vnd.jupyter.widget-view+json": {
       "model_id": "a00923a469814ce2a504dcce637b2092",
       "version_major": 2,
       "version_minor": 0
      },
      "text/plain": [
       "Button(description='Train Model', style=ButtonStyle())"
      ]
     },
     "metadata": {},
     "output_type": "display_data"
    },
    {
     "data": {
      "application/vnd.jupyter.widget-view+json": {
       "model_id": "586bbad8950e46f9b2082994d496baee",
       "version_major": 2,
       "version_minor": 0
      },
      "text/plain": [
       "Button(description='Test Model', style=ButtonStyle())"
      ]
     },
     "metadata": {},
     "output_type": "display_data"
    },
    {
     "data": {
      "application/vnd.jupyter.widget-view+json": {
       "model_id": "342dbe28fe4f4bc089ad57a28b5cbb43",
       "version_major": 2,
       "version_minor": 0
      },
      "text/plain": [
       "Button(description='Save Job ID', style=ButtonStyle())"
      ]
     },
     "metadata": {},
     "output_type": "display_data"
    },
    {
     "data": {
      "application/vnd.jupyter.widget-view+json": {
       "model_id": "f9276630d4e349fbac564731e8916048",
       "version_major": 2,
       "version_minor": 0
      },
      "text/plain": [
       "Button(description='Create Vector Store', style=ButtonStyle())"
      ]
     },
     "metadata": {},
     "output_type": "display_data"
    },
    {
     "data": {
      "application/vnd.jupyter.widget-view+json": {
       "model_id": "00e11bf3757545f189978cb5485d2650",
       "version_major": 2,
       "version_minor": 0
      },
      "text/plain": [
       "Button(description='Upload Files to Vector Store', style=ButtonStyle())"
      ]
     },
     "metadata": {},
     "output_type": "display_data"
    },
    {
     "data": {
      "application/vnd.jupyter.widget-view+json": {
       "model_id": "48dc09a08a4545c2b38f63b932745c46",
       "version_major": 2,
       "version_minor": 0
      },
      "text/plain": [
       "Button(description='Update Assistant', style=ButtonStyle())"
      ]
     },
     "metadata": {},
     "output_type": "display_data"
    },
    {
     "data": {
      "application/vnd.jupyter.widget-view+json": {
       "model_id": "91c7cba1095d4ac489cc7d00e0d2c039",
       "version_major": 2,
       "version_minor": 0
      },
      "text/plain": [
       "Textarea(value='', description='Message:', layout=Layout(height='100px', width='100%'), placeholder='Type your…"
      ]
     },
     "metadata": {},
     "output_type": "display_data"
    },
    {
     "data": {
      "application/vnd.jupyter.widget-view+json": {
       "model_id": "39d82e3de837415588c7bbcd2af483d8",
       "version_major": 2,
       "version_minor": 0
      },
      "text/plain": [
       "Button(description='Send', style=ButtonStyle())"
      ]
     },
     "metadata": {},
     "output_type": "display_data"
    },
    {
     "data": {
      "application/vnd.jupyter.widget-view+json": {
       "model_id": "6c1a43fadfcd4177a002fd71a88dcc22",
       "version_major": 2,
       "version_minor": 0
      },
      "text/plain": [
       "Output()"
      ]
     },
     "metadata": {},
     "output_type": "display_data"
    }
   ],
   "source": [
    "# Import additional required modules\n",
    "import ipywidgets as widgets\n",
    "from IPython.display import display\n",
    "import os\n",
    "import zipfile\n",
    "from datetime import datetime\n",
    "\n",
    "# Existing code and widget setup\n",
    "\n",
    "# Widgets for existing functionalities\n",
    "file_upload = widgets.FileUpload(accept='.txt', multiple=True)\n",
    "dataset_button = widgets.Button(description='Select Dataset')\n",
    "train_button = widgets.Button(description='Train Model')\n",
    "test_button = widgets.Button(description='Test Model')\n",
    "save_button = widgets.Button(description='Save Job ID')\n",
    "create_vector_store_button = widgets.Button(description='Create Vector Store')\n",
    "upload_files_button = widgets.Button(description='Upload Files to Vector Store')\n",
    "update_assistant_button = widgets.Button(description='Update Assistant')\n",
    "output = widgets.Output()\n",
    "\n",
    "# New widgets for message input and sending\n",
    "message_input = widgets.Textarea(\n",
    "    description='Message:',\n",
    "    placeholder='Type your message here',\n",
    "    layout=widgets.Layout(width='100%', height='100px')\n",
    ")\n",
    "send_button = widgets.Button(description='Send')\n",
    "\n",
    "# Display widgets\n",
    "display(file_upload)\n",
    "display(dataset_button)\n",
    "display(train_button)\n",
    "display(test_button)\n",
    "display(save_button)\n",
    "display(create_vector_store_button)\n",
    "display(upload_files_button)\n",
    "display(update_assistant_button)\n",
    "display(message_input)\n",
    "display(send_button)\n",
    "display(output)\n",
    "\n",
    "# Existing function definitions\n",
    "def on_upload_change(change):\n",
    "    with output:\n",
    "        output.clear_output()\n",
    "        if file_upload.value:\n",
    "            files = [file for file in file_upload.value.values()]\n",
    "            display(files)\n",
    "\n",
    "file_upload.observe(on_upload_change, names='value')\n",
    "\n",
    "def on_dataset_button_clicked(b):\n",
    "    with output:\n",
    "        output.clear_output()\n",
    "        path_to_dir = './dataset/'  # Path to directory with dataset\n",
    "        dataset = select_dataset_and_archive(path_to_dir, positive=True)\n",
    "        if dataset:\n",
    "            print(f\"Dataset selected and archived: {len(dataset)} items\")\n",
    "        else:\n",
    "            print(\"Failed to select or archive dataset\")\n",
    "\n",
    "def on_train_button_clicked(b):\n",
    "    with output:\n",
    "        output.clear_output()\n",
    "        dataset = select_dataset_and_archive('./dataset/', positive=True)\n",
    "        if dataset:\n",
    "            job_id = model.train(dataset, positive=True)\n",
    "            if job_id:\n",
    "                print(f\"Training started, Job ID: {job_id}\")\n",
    "            else:\n",
    "                print(\"Failed to start training\")\n",
    "        else:\n",
    "            print(\"Failed to select dataset\")\n",
    "\n",
    "def on_test_button_clicked(b):\n",
    "    with output:\n",
    "        output.clear_output()\n",
    "        test_data = [\n",
    "            {\"name\": \"Test 1\", \"text\": \"Sample text for testing\", \"label\": \"positive\"}\n",
    "        ]  # Replace with real test data\n",
    "        predictions = model.test(test_data)\n",
    "        if predictions:\n",
    "            for entry, prediction in zip(test_data, predictions):\n",
    "                print(f\"Page: {entry['name']}, Prediction: {prediction}, Actual: {entry['label']}\")\n",
    "        else:\n",
    "            print(\"Failed to test the model\")\n",
    "\n",
    "def on_save_button_clicked(b):\n",
    "    with output:\n",
    "        output.clear_output()\n",
    "        job_id = model.current_job_id\n",
    "        if job_id:\n",
    "            model.save_job_id(job_id, \"Training job description\")\n",
    "            print(f\"Job ID {job_id} saved successfully\")\n",
    "        else:\n",
    "            print(\"No Job ID to save\")\n",
    "\n",
    "def on_create_vector_store_button_clicked(b):\n",
    "    with output:\n",
    "        output.clear_output()\n",
    "        client = ...  # Initialize your API client\n",
    "        name = 'New Vector Store'  # Name of the vector store\n",
    "        file_paths = []  # Add file paths if needed\n",
    "        vector_store_id = model.create_vector_store(client, name, file_paths)\n",
    "        if vector_store_id:\n",
    "            print(f\"Vector store created, ID: {vector_store_id}\")\n",
    "        else:\n",
    "            print(\"Failed to create vector store\")\n",
    "\n",
    "def on_upload_files_button_clicked(b):\n",
    "    with output:\n",
    "        output.clear_output()\n",
    "        client = ...  # Initialize your API client\n",
    "        vector_store_id = 'your_vector_store_id'  # Replace with your vector store ID\n",
    "        file_paths = []  # Add file paths\n",
    "        model.upload_files_to_vector_store(client, vector_store_id, file_paths)\n",
    "        print(\"Files uploaded to vector store\")\n",
    "\n",
    "def on_update_assistant_button_clicked(b):\n",
    "    with output:\n",
    "        output.clear_output()\n",
    "        client = ...  # Initialize your API client\n",
    "        assistant_id = model.assistant_id  # Use the assistant ID from the model\n",
    "        vector_store_id = 'your_vector_store_id'  # Replace with your vector store ID\n",
    "        model.update_assistant_with_file_search(client, assistant_id, vector_store_id)\n",
    "        print(\"Assistant updated successfully\")\n",
    "\n",
    "# New functions for message sending\n",
    "def on_send_button_clicked(b):\n",
    "    with output:\n",
    "        output.clear_output()\n",
    "        message = message_input.value\n",
    "        if message:\n",
    "            response = model.send_message(message)\n",
    "            print(f\"Response from model: {response}\")\n",
    "        else:\n",
    "            print(\"No message to send\")\n",
    "\n",
    "# Bind event handlers to buttons\n",
    "dataset_button.on_click(on_dataset_button_clicked)\n",
    "train_button.on_click(on_train_button_clicked)\n",
    "test_button.on_click(on_test_button_clicked)\n",
    "save_button.on_click(on_save_button_clicked)\n",
    "create_vector_store_button.on_click(on_create_vector_store_button_clicked)\n",
    "upload_files_button.on_click(on_upload_files_button_clicked)\n",
    "update_assistant_button.on_click(on_update_assistant_button_clicked)\n",
    "send_button.on_click(on_send_button_clicked)\n",
    "\n",
    "# Function to select dataset and archive\n",
    "def select_dataset_and_archive(path_to_dir: str, positive: bool = True) -> list[dict[str, str]]:\n",
    "    \"\"\"Select a dataset for training the model and archive the files.\n",
    "\n",
    "    @param path_to_dir: Path to the directory containing the dataset files.\n",
    "    @param positive: Boolean flag indicating if the label should be positive (True) or negative (False).\n",
    "    @return: List of dictionaries containing 'text', 'label', and 'name' of each file.\n",
    "\n",
    "    Example:\n",
    "        dataset = select_dataset_and_archive('./dataset/', positive=True)\n",
    "    \"\"\"\n",
    "    dataset = []\n",
    "    for filename in os.listdir(path_to_dir):\n",
    "        if filename.endswith('.txt'):\n",
    "            with open(os.path.join(path_to_dir, filename), 'r', encoding='utf-8') as file:\n",
    "                text = file.read()\n",
    "                dataset.append({\"text\": text, \"label\": \"positive\" if positive else \"negative\", \"name\": filename})\n",
    "    # Archive files\n",
    "    archive_files(path_to_dir)\n",
    "    return dataset\n",
    "\n",
    "def archive_files(directory: str):\n",
    "    \"\"\"Archive all files in the specified directory with the current date in the filename.\n",
    "\n",
    "    @param directory: Directory containing the files to archive.\n",
    "    \"\"\"\n",
    "    current_date = datetime.now().strftime('%Y-%m-%d')\n",
    "    archive_filename = f\"{current_date}_files.zip\"\n",
    "    with zipfile.ZipFile(archive_filename, 'w') as zipf:\n",
    "        for filename in os.listdir(directory):\n",
    "            if filename.endswith('.txt'):\n",
    "                zipf.write(os.path.join(directory, filename), filename)\n",
    "    print(\"Files archived successfully.\")\n"
   ]
  },
  {
   "cell_type": "code",
   "execution_count": 11,
   "id": "159d1d5c-ce4f-46a8-9e37-8618ff0dff34",
   "metadata": {},
   "outputs": [
    {
     "ename": "SyntaxError",
     "evalue": "expression cannot contain assignment, perhaps you meant \"==\"? (1776197103.py, line 116)",
     "output_type": "error",
     "traceback": [
      "\u001b[1;36m  Cell \u001b[1;32mIn[11], line 116\u001b[1;36m\u001b[0m\n\u001b[1;33m    chat_log:SimpleNamespace = SimpleNamespace('user'=[],'')\u001b[0m\n\u001b[1;37m                                               ^\u001b[0m\n\u001b[1;31mSyntaxError\u001b[0m\u001b[1;31m:\u001b[0m expression cannot contain assignment, perhaps you meant \"==\"?\n"
     ]
    }
   ],
   "source": [
    "import ipywidgets as widgets\n",
    "from IPython.display import display, clear_output\n",
    "\n",
    "# Widgets\n",
    "file_upload = widgets.FileUpload(accept='.txt', multiple=True)\n",
    "dataset_button = widgets.Button(description='Select Dataset')\n",
    "train_button = widgets.Button(description='Train Model')\n",
    "test_button = widgets.Button(description='Test Model')\n",
    "save_button = widgets.Button(description='Save Job ID')\n",
    "create_vector_store_button = widgets.Button(description='Create Vector Store')\n",
    "upload_files_button = widgets.Button(description='Upload Files to Vector Store')\n",
    "update_assistant_button = widgets.Button(description='Update Assistant')\n",
    "message_input = widgets.Textarea(description='Message:', layout=widgets.Layout(width='100%', height='100px'))\n",
    "send_message_button = widgets.Button(description='Send Message')\n",
    "output = widgets.Output()\n",
    "\n",
    "# Display widgets\n",
    "display(file_upload)\n",
    "display(dataset_button)\n",
    "display(train_button)\n",
    "display(test_button)\n",
    "display(save_button)\n",
    "display(create_vector_store_button)\n",
    "display(upload_files_button)\n",
    "display(update_assistant_button)\n",
    "display(message_input)\n",
    "display(send_message_button)\n",
    "display(output)\n",
    "\n",
    "def on_upload_change(change):\n",
    "    with output:\n",
    "        clear_output()\n",
    "        if file_upload.value:\n",
    "            files = [file for file in file_upload.value.values()]\n",
    "            display(files)\n",
    "\n",
    "file_upload.observe(on_upload_change, names='value')\n",
    "\n",
    "def on_dataset_button_clicked(b):\n",
    "    with output:\n",
    "        clear_output()\n",
    "        path_to_dir = './dataset/'  # Path to directory with dataset\n",
    "        dataset = select_dataset_and_archive(path_to_dir, positive=True)\n",
    "        if dataset:\n",
    "            print(f\"Dataset selected and archived: {len(dataset)} items\")\n",
    "        else:\n",
    "            print(\"Failed to select or archive dataset\")\n",
    "\n",
    "def on_train_button_clicked(b):\n",
    "    with output:\n",
    "        clear_output()\n",
    "        dataset = select_dataset_and_archive('./dataset/', positive=True)\n",
    "        if dataset:\n",
    "            job_id = model.train(dataset, positive=True)\n",
    "            if job_id:\n",
    "                print(f\"Training started, Job ID: {job_id}\")\n",
    "            else:\n",
    "                print(\"Failed to start training\")\n",
    "        else:\n",
    "            print(\"Failed to select dataset\")\n",
    "\n",
    "def on_test_button_clicked(b):\n",
    "    with output:\n",
    "        clear_output()\n",
    "        test_data = [\n",
    "            {\"name\": \"Test 1\", \"text\": \"Sample text for testing\", \"label\": \"positive\"}\n",
    "        ]  # Replace with real test data\n",
    "        predictions = model.test(test_data)\n",
    "        if predictions:\n",
    "            for entry, prediction in zip(test_data, predictions):\n",
    "                print(f\"Page: {entry['name']}, Prediction: {prediction}, Actual: {entry['label']}\")\n",
    "        else:\n",
    "            print(\"Failed to test the model\")\n",
    "\n",
    "def on_save_button_clicked(b):\n",
    "    with output:\n",
    "        clear_output()\n",
    "        job_id = model.current_job_id\n",
    "        if job_id:\n",
    "            model.save_job_id(job_id, \"Training job description\")\n",
    "            print(f\"Job ID {job_id} saved successfully\")\n",
    "        else:\n",
    "            print(\"No Job ID to save\")\n",
    "\n",
    "def on_create_vector_store_button_clicked(b):\n",
    "    with output:\n",
    "        clear_output()\n",
    "        client = ...  # Initialize your API client\n",
    "        name = 'New Vector Store'  # Name of the vector store\n",
    "        file_paths = []  # Add file paths if needed\n",
    "        vector_store_id = model.create_vector_store(client, name, file_paths)\n",
    "        if vector_store_id:\n",
    "            print(f\"Vector store created with ID: {vector_store_id}\")\n",
    "        else:\n",
    "            print(\"Failed to create vector store\")\n",
    "\n",
    "def on_upload_files_button_clicked(b):\n",
    "    with output:\n",
    "        clear_output()\n",
    "        client = ...  # Initialize your API client\n",
    "        vector_store_id = 'your-vector-store-id'\n",
    "        file_paths = []  # Add file paths to upload\n",
    "        response = model.upload_files_to_vector_store(client, vector_store_id, file_paths)\n",
    "        if response:\n",
    "            print(f\"Files uploaded successfully: {response}\")\n",
    "        else:\n",
    "            print(\"Failed to upload files\")\n",
    "\n",
    "def on_update_assistant_button_clicked(b):\n",
    "    with output:\n",
    "        clear_output()\n",
    "        assistant_id = 'your-assistant-id'`\n",
    "        description = 'Updated assistant description'L\n",
    "        model.update_assistant(assistant_id, description)\n",
    "        print(f\"Assistant {assistant_id} updated successfully\")\n",
    "chat_log:SimpleNamespace = SimpleNamespace('user'=[],'')\n",
    "def on_send_message_button_clicked(b):\n",
    "    with output:\n",
    "        clear_output()\n",
    "        message = message_input.value\n",
    "        if message:\n",
    "            response = model.send_message(message)\n",
    "            print(f\"\"\"Response from assistant: {response}\"\"\")\n",
    "        else:\n",
    "            print(\"No message to send\")\n",
    "\n",
    "# Attach event handlers\n",
    "dataset_button.on_click(on_dataset_button_clicked)\n",
    "train_button.on_click(on_train_button_clicked)\n",
    "test_button.on_click(on_test_button_clicked)\n",
    "save_button.on_click(on_save_button_clicked)\n",
    "create_vector_store_button.on_click(on_create_vector_store_button_clicked)\n",
    "upload_files_button.on_click(on_upload_files_button_clicked)\n",
    "update_assistant_button.on_click(on_update_assistant_button_clicked)\n",
    "send_message_button.on_click(on_send_message_button_clicked)\n"
   ]
  },
  {
   "cell_type": "code",
   "execution_count": 12,
   "id": "e9364fdc-e74a-4958-9c6b-baf936dbfc9a",
   "metadata": {},
   "outputs": [
    {
     "data": {
      "application/vnd.jupyter.widget-view+json": {
       "model_id": "81a2a6b3c64f4768bb085ee6a8eef9ce",
       "version_major": 2,
       "version_minor": 0
      },
      "text/plain": [
       "FileUpload(value=(), accept='.txt', description='Upload', multiple=True)"
      ]
     },
     "metadata": {},
     "output_type": "display_data"
    },
    {
     "data": {
      "application/vnd.jupyter.widget-view+json": {
       "model_id": "c43bd9b18946468e800dffe6f8690292",
       "version_major": 2,
       "version_minor": 0
      },
      "text/plain": [
       "Button(description='Select Dataset', style=ButtonStyle())"
      ]
     },
     "metadata": {},
     "output_type": "display_data"
    },
    {
     "data": {
      "application/vnd.jupyter.widget-view+json": {
       "model_id": "a91e20310cda440486d98991033cb974",
       "version_major": 2,
       "version_minor": 0
      },
      "text/plain": [
       "Button(description='Train Model', style=ButtonStyle())"
      ]
     },
     "metadata": {},
     "output_type": "display_data"
    },
    {
     "data": {
      "application/vnd.jupyter.widget-view+json": {
       "model_id": "60966ba46f814dce9638b82716692738",
       "version_major": 2,
       "version_minor": 0
      },
      "text/plain": [
       "Button(description='Test Model', style=ButtonStyle())"
      ]
     },
     "metadata": {},
     "output_type": "display_data"
    },
    {
     "data": {
      "application/vnd.jupyter.widget-view+json": {
       "model_id": "3fc222955c0e4bfaa21e1a5c3e5bd2cb",
       "version_major": 2,
       "version_minor": 0
      },
      "text/plain": [
       "Button(description='Save Job ID', style=ButtonStyle())"
      ]
     },
     "metadata": {},
     "output_type": "display_data"
    },
    {
     "data": {
      "application/vnd.jupyter.widget-view+json": {
       "model_id": "767f115ea21f4d42821d3461e07ddf9f",
       "version_major": 2,
       "version_minor": 0
      },
      "text/plain": [
       "Button(description='Create Vector Store', style=ButtonStyle())"
      ]
     },
     "metadata": {},
     "output_type": "display_data"
    },
    {
     "data": {
      "application/vnd.jupyter.widget-view+json": {
       "model_id": "7f80fd728f044ea4a26e33ac8463ace5",
       "version_major": 2,
       "version_minor": 0
      },
      "text/plain": [
       "Button(description='Upload Files to Vector Store', style=ButtonStyle())"
      ]
     },
     "metadata": {},
     "output_type": "display_data"
    },
    {
     "data": {
      "application/vnd.jupyter.widget-view+json": {
       "model_id": "2617128f48fc4391a2386d84607cc102",
       "version_major": 2,
       "version_minor": 0
      },
      "text/plain": [
       "Button(description='Update Assistant', style=ButtonStyle())"
      ]
     },
     "metadata": {},
     "output_type": "display_data"
    },
    {
     "data": {
      "application/vnd.jupyter.widget-view+json": {
       "model_id": "600fddba9bed42f28333cae22922c0a8",
       "version_major": 2,
       "version_minor": 0
      },
      "text/plain": [
       "Textarea(value='', description='Message:', layout=Layout(height='100px', width='100%'))"
      ]
     },
     "metadata": {},
     "output_type": "display_data"
    },
    {
     "data": {
      "application/vnd.jupyter.widget-view+json": {
       "model_id": "908efc5eed2440ce96229f1384ff155a",
       "version_major": 2,
       "version_minor": 0
      },
      "text/plain": [
       "Button(description='Send Message', style=ButtonStyle())"
      ]
     },
     "metadata": {},
     "output_type": "display_data"
    },
    {
     "data": {
      "application/vnd.jupyter.widget-view+json": {
       "model_id": "360ee238aac04f4a885783083daf6883",
       "version_major": 2,
       "version_minor": 0
      },
      "text/plain": [
       "Output()"
      ]
     },
     "metadata": {},
     "output_type": "display_data"
    }
   ],
   "source": [
    "from pathlib import Path\n",
    "import ipywidgets as widgets\n",
    "from IPython.display import display, clear_output\n",
    "from src.logger import logger\n",
    "from src.utils import j_loads, j_loads_ns, j_dumps\n",
    "from types import SimpleNamespace\n",
    "\n",
    "# Widgets\n",
    "file_upload = widgets.FileUpload(accept='.txt', multiple=True)\n",
    "dataset_button = widgets.Button(description='Select Dataset')\n",
    "train_button = widgets.Button(description='Train Model')\n",
    "test_button = widgets.Button(description='Test Model')\n",
    "save_button = widgets.Button(description='Save Job ID')\n",
    "create_vector_store_button = widgets.Button(description='Create Vector Store')\n",
    "upload_files_button = widgets.Button(description='Upload Files to Vector Store')\n",
    "update_assistant_button = widgets.Button(description='Update Assistant')\n",
    "message_input = widgets.Textarea(description='Message:', layout=widgets.Layout(width='100%', height='100px'))\n",
    "send_message_button = widgets.Button(description='Send Message')\n",
    "output = widgets.Output()\n",
    "\n",
    "# Display widgets\n",
    "display(file_upload)\n",
    "display(dataset_button)\n",
    "display(train_button)\n",
    "display(test_button)\n",
    "display(save_button)\n",
    "display(create_vector_store_button)\n",
    "display(upload_files_button)\n",
    "display(update_assistant_button)\n",
    "display(message_input)\n",
    "display(send_message_button)\n",
    "display(output)\n",
    "\n",
    "def on_upload_change(change):\n",
    "    \"\"\"! Handle file upload changes \"\"\"\n",
    "    with output:\n",
    "        clear_output()\n",
    "        if file_upload.value:\n",
    "            files = [file for file in file_upload.value.values()]\n",
    "            display(files)\n",
    "\n",
    "file_upload.observe(on_upload_change, names='value')\n",
    "\n",
    "def on_dataset_button_clicked(b):\n",
    "    \"\"\"! Handle dataset selection button click \"\"\"\n",
    "    with output:\n",
    "        clear_output()\n",
    "        path_to_dir = Path('./dataset/')\n",
    "        dataset = select_dataset_and_archive(path_to_dir, positive=True)\n",
    "        if dataset:\n",
    "            print(f\"Dataset selected and archived: {len(dataset)} items\")\n",
    "        else:\n",
    "            print(\"Failed to select or archive dataset\")\n",
    "\n",
    "def on_train_button_clicked(b):\n",
    "    \"\"\"! Handle train button click \"\"\"\n",
    "    with output:\n",
    "        clear_output()\n",
    "        dataset = select_dataset_and_archive(Path('./dataset/'), positive=True)\n",
    "        if dataset:\n",
    "            job_id = model.train(dataset, positive=True)\n",
    "            if job_id:\n",
    "                print(f\"Training started, Job ID: {job_id}\")\n",
    "            else:\n",
    "                print(\"Failed to start training\")\n",
    "        else:\n",
    "            print(\"Failed to select dataset\")\n",
    "\n",
    "def on_test_button_clicked(b):\n",
    "    \"\"\"! Handle test button click \"\"\"\n",
    "    with output:\n",
    "        clear_output()\n",
    "        test_data = [\n",
    "            {\"name\": \"Test 1\", \"text\": \"Sample text for testing\", \"label\": \"positive\"}\n",
    "        ]\n",
    "        predictions = model.test(test_data)\n",
    "        if predictions:\n",
    "            for entry, prediction in zip(test_data, predictions):\n",
    "                print(f\"Page: {entry['name']}, Prediction: {prediction}, Actual: {entry['label']}\")\n",
    "        else:\n",
    "            print(\"Failed to test the model\")\n",
    "\n",
    "def on_save_button_clicked(b):\n",
    "    \"\"\"! Handle save button click \"\"\"\n",
    "    with output:\n",
    "        clear_output()\n",
    "        job_id = model.current_job_id\n",
    "        if job_id:\n",
    "            model.save_job_id(job_id, \"Training job description\")\n",
    "            print(f\"Job ID {job_id} saved successfully\")\n",
    "        else:\n",
    "            print(\"No Job ID to save\")\n",
    "\n",
    "def on_create_vector_store_button_clicked(b):\n",
    "    \"\"\"! Handle create vector store button click \"\"\"\n",
    "    with output:\n",
    "        clear_output()\n",
    "        client = ...  # Initialize your API client\n",
    "        name = 'New Vector Store'\n",
    "        file_paths = []  # Add file paths if needed\n",
    "        vector_store_id = model.create_vector_store(client, name, file_paths)\n",
    "        if vector_store_id:\n",
    "            print(f\"Vector store created with ID: {vector_store_id}\")\n",
    "        else:\n",
    "            print(\"Failed to create vector store\")\n",
    "\n",
    "def on_upload_files_button_clicked(b):\n",
    "    \"\"\"! Handle upload files to vector store button click \"\"\"\n",
    "    with output:\n",
    "        clear_output()\n",
    "        client = ...  # Initialize your API client\n",
    "        vector_store_id = 'your-vector-store-id'\n",
    "        file_paths = []  # Add file paths to upload\n",
    "        response = model.upload_files_to_vector_store(client, vector_store_id, file_paths)\n",
    "        if response:\n",
    "            print(f\"Files uploaded successfully: {response}\")\n",
    "        else:\n",
    "            print(\"Failed to upload files\")\n",
    "\n",
    "def on_update_assistant_button_clicked(b):\n",
    "    \"\"\"! Handle update assistant button click \"\"\"\n",
    "    with output:\n",
    "        clear_output()\n",
    "        assistant_id = 'your-assistant-id'\n",
    "        description = 'Updated assistant description'\n",
    "        model.update_assistant(assistant_id, description)\n",
    "        print(f\"Assistant {assistant_id} updated successfully\")\n",
    "\n",
    "def on_send_message_button_clicked(b):\n",
    "    \"\"\"! Handle send message button click \"\"\"\n",
    "    with output:\n",
    "        clear_output()\n",
    "        message = message_input.value\n",
    "        if message:\n",
    "            response = model.send_message(message)\n",
    "            print(f\"Response from assistant: {response}\")\n",
    "        else:\n",
    "            print(\"No message to send\")\n",
    "\n",
    "# Attach event handlers\n",
    "dataset_button.on_click(on_dataset_button_clicked)\n",
    "train_button.on_click(on_train_button_clicked)\n",
    "test_button.on_click(on_test_button_clicked)\n",
    "save_button.on_click(on_save_button_clicked)\n",
    "create_vector_store_button.on_click(on_create_vector_store_button_clicked)\n",
    "upload_files_button.on_click(on_upload_files_button_clicked)\n",
    "update_assistant_button.on_click(on_update_assistant_button_clicked)\n",
    "send_message_button.on_click(on_send_message_button_clicked)\n"
   ]
  },
  {
   "cell_type": "code",
   "execution_count": 15,
   "id": "1d025edb-1abb-4820-ac20-3ae58e269df1",
   "metadata": {},
   "outputs": [
    {
     "data": {
      "application/vnd.jupyter.widget-view+json": {
       "model_id": "1eb756b731a842f1b9cee97ea140ae23",
       "version_major": 2,
       "version_minor": 0
      },
      "text/plain": [
       "FileUpload(value=(), accept='.txt', description='Upload', multiple=True)"
      ]
     },
     "metadata": {},
     "output_type": "display_data"
    },
    {
     "data": {
      "application/vnd.jupyter.widget-view+json": {
       "model_id": "8e306f836a0742c0963a940b7762afc1",
       "version_major": 2,
       "version_minor": 0
      },
      "text/plain": [
       "Button(description='Select Dataset', style=ButtonStyle())"
      ]
     },
     "metadata": {},
     "output_type": "display_data"
    },
    {
     "data": {
      "application/vnd.jupyter.widget-view+json": {
       "model_id": "032bd78466a44ba5b782ba4e2c1631e4",
       "version_major": 2,
       "version_minor": 0
      },
      "text/plain": [
       "Button(description='Train Model', style=ButtonStyle())"
      ]
     },
     "metadata": {},
     "output_type": "display_data"
    },
    {
     "data": {
      "application/vnd.jupyter.widget-view+json": {
       "model_id": "902f34106e2e4505bf2ce62c1b2e94ff",
       "version_major": 2,
       "version_minor": 0
      },
      "text/plain": [
       "Button(description='Test Model', style=ButtonStyle())"
      ]
     },
     "metadata": {},
     "output_type": "display_data"
    },
    {
     "data": {
      "application/vnd.jupyter.widget-view+json": {
       "model_id": "76c21998ec00469b96f7027db50c46f5",
       "version_major": 2,
       "version_minor": 0
      },
      "text/plain": [
       "Button(description='Save Job ID', style=ButtonStyle())"
      ]
     },
     "metadata": {},
     "output_type": "display_data"
    },
    {
     "data": {
      "application/vnd.jupyter.widget-view+json": {
       "model_id": "5b066295acf94697bc06154375d3e6c4",
       "version_major": 2,
       "version_minor": 0
      },
      "text/plain": [
       "Button(description='Create Vector Store', style=ButtonStyle())"
      ]
     },
     "metadata": {},
     "output_type": "display_data"
    },
    {
     "data": {
      "application/vnd.jupyter.widget-view+json": {
       "model_id": "bf0f5cdb75484cfcb7bbf971f581da68",
       "version_major": 2,
       "version_minor": 0
      },
      "text/plain": [
       "Button(description='Upload Files to Vector Store', style=ButtonStyle())"
      ]
     },
     "metadata": {},
     "output_type": "display_data"
    },
    {
     "data": {
      "application/vnd.jupyter.widget-view+json": {
       "model_id": "c948399426864c8d877c605c1d98d477",
       "version_major": 2,
       "version_minor": 0
      },
      "text/plain": [
       "Button(description='Update Assistant', style=ButtonStyle())"
      ]
     },
     "metadata": {},
     "output_type": "display_data"
    },
    {
     "data": {
      "application/vnd.jupyter.widget-view+json": {
       "model_id": "bcbe5d1ebb3449a580651e6b352b2656",
       "version_major": 2,
       "version_minor": 0
      },
      "text/plain": [
       "Textarea(value='', description='Message:', layout=Layout(height='100px', width='100%'))"
      ]
     },
     "metadata": {},
     "output_type": "display_data"
    },
    {
     "data": {
      "application/vnd.jupyter.widget-view+json": {
       "model_id": "89ba736d5c204724a5be7fb2aad282db",
       "version_major": 2,
       "version_minor": 0
      },
      "text/plain": [
       "Button(description='Send Message', style=ButtonStyle())"
      ]
     },
     "metadata": {},
     "output_type": "display_data"
    },
    {
     "data": {
      "application/vnd.jupyter.widget-view+json": {
       "model_id": "cfb6201d943449e5afc12ef17e166590",
       "version_major": 2,
       "version_minor": 0
      },
      "text/plain": [
       "Output()"
      ]
     },
     "metadata": {},
     "output_type": "display_data"
    }
   ],
   "source": [
    "from pathlib import Path\n",
    "import ipywidgets as widgets\n",
    "from IPython.display import display, clear_output\n",
    "from src.logger import logger\n",
    "from src.utils import j_loads, j_loads_ns, j_dumps\n",
    "from types import SimpleNamespace\n",
    "\n",
    "# Widgets\n",
    "file_upload = widgets.FileUpload(accept='.txt', multiple=True)\n",
    "dataset_button = widgets.Button(description='Select Dataset')\n",
    "train_button = widgets.Button(description='Train Model')\n",
    "test_button = widgets.Button(description='Test Model')\n",
    "save_button = widgets.Button(description='Save Job ID')\n",
    "create_vector_store_button = widgets.Button(description='Create Vector Store')\n",
    "upload_files_button = widgets.Button(description='Upload Files to Vector Store')\n",
    "update_assistant_button = widgets.Button(description='Update Assistant')\n",
    "message_input = widgets.Textarea(description='Message:', layout=widgets.Layout(width='100%', height='100px'))\n",
    "send_message_button = widgets.Button(description='Send Message')\n",
    "output = widgets.Output()\n",
    "\n",
    "# Display widgets\n",
    "display(file_upload)\n",
    "display(dataset_button)\n",
    "display(train_button)\n",
    "display(test_button)\n",
    "display(save_button)\n",
    "display(create_vector_store_button)\n",
    "display(upload_files_button)\n",
    "display(update_assistant_button)\n",
    "display(message_input)\n",
    "display(send_message_button)\n",
    "display(output)\n",
    "\n",
    "def on_upload_change(change):\n",
    "    \"\"\"! Handle file upload changes \"\"\"\n",
    "    with output:\n",
    "        clear_output()\n",
    "        if file_upload.value:\n",
    "            files = [file for file in file_upload.value.values()]\n",
    "            display(files)\n",
    "\n",
    "file_upload.observe(on_upload_change, names='value')\n",
    "\n",
    "def on_dataset_button_clicked(b):\n",
    "    \"\"\"! Handle dataset selection button click \"\"\"\n",
    "    with output:\n",
    "        clear_output()\n",
    "        path_to_dir = Path('./dataset/')\n",
    "        dataset = select_dataset_and_archive(path_to_dir, positive=True)\n",
    "        if dataset:\n",
    "            print(f\"Dataset selected and archived: {len(dataset)} items\")\n",
    "        else:\n",
    "            print(\"Failed to select or archive dataset\")\n",
    "\n",
    "def on_train_button_clicked(b):\n",
    "    \"\"\"! Handle train button click \"\"\"\n",
    "    with output:\n",
    "        clear_output()\n",
    "        dataset = select_dataset_and_archive(Path('./dataset/'), positive=True)\n",
    "        if dataset:\n",
    "            job_id = model.train(dataset, positive=True)\n",
    "            if job_id:\n",
    "                print(f\"Training started, Job ID: {job_id}\")\n",
    "            else:\n",
    "                print(\"Failed to start training\")\n",
    "        else:\n",
    "            print(\"Failed to select dataset\")\n",
    "\n",
    "def on_test_button_clicked(b):\n",
    "    \"\"\"! Handle test button click \"\"\"\n",
    "    with output:\n",
    "        clear_output()\n",
    "        test_data = [\n",
    "            {\"name\": \"Test 1\", \"text\": \"Sample text for testing\", \"label\": \"positive\"}\n",
    "        ]\n",
    "        predictions = model.test(test_data)\n",
    "        if predictions:\n",
    "            for entry, prediction in zip(test_data, predictions):\n",
    "                print(f\"Page: {entry['name']}, Prediction: {prediction}, Actual: {entry['label']}\")\n",
    "        else:\n",
    "            print(\"Failed to test the model\")\n",
    "\n",
    "def on_save_button_clicked(b):\n",
    "    \"\"\"! Handle save button click \"\"\"\n",
    "    with output:\n",
    "        clear_output()\n",
    "        job_id = model.current_job_id\n",
    "        if job_id:\n",
    "            model.save_job_id(job_id, \"Training job description\")\n",
    "            print(f\"Job ID {job_id} saved successfully\")\n",
    "        else:\n",
    "            print(\"No Job ID to save\")\n",
    "\n",
    "def on_create_vector_store_button_clicked(b):\n",
    "    \"\"\"! Handle create vector store button click \"\"\"\n",
    "    with output:\n",
    "        clear_output()\n",
    "        client = ...  # Initialize your API client\n",
    "        name = 'New Vector Store'\n",
    "        file_paths = []  # Add file paths if needed\n",
    "        vector_store_id = model.create_vector_store(client, name, file_paths)\n",
    "        if vector_store_id:\n",
    "            print(f\"Vector store created with ID: {vector_store_id}\")\n",
    "        else:\n",
    "            print(\"Failed to create vector store\")\n",
    "\n",
    "def on_upload_files_button_clicked(b):\n",
    "    \"\"\"! Handle upload files to vector store button click \"\"\"\n",
    "    with output:\n",
    "        clear_output()\n",
    "        client = ...  # Initialize your API client\n",
    "        vector_store_id = 'your-vector-store-id'\n",
    "        file_paths = []  # Add file paths to upload\n",
    "        response = model.upload_files_to_vector_store(client, vector_store_id, file_paths)\n",
    "        if response:\n",
    "            print(f\"Files uploaded successfully: {response}\")\n",
    "        else:\n",
    "            print(\"Failed to upload files\")\n",
    "\n",
    "def on_update_assistant_button_clicked(b):\n",
    "    \"\"\"! Handle update assistant button click \"\"\"\n",
    "    with output:\n",
    "        clear_output()\n",
    "        assistant_id = 'your-assistant-id'\n",
    "        description = 'Updated assistant description'\n",
    "        model.update_assistant(assistant_id, description)\n",
    "        print(f\"Assistant {assistant_id} updated successfully\")\n",
    "\n",
    "def on_send_message_button_clicked(b):\n",
    "    \"\"\"! Handle send message button click \"\"\"\n",
    "    with output:\n",
    "        clear_output()\n",
    "        message = message_input.value\n",
    "        if message:\n",
    "            response = model.send_message(message)\n",
    "            if response:\n",
    "                new_input = widgets.Textarea(value=response, layout=widgets.Layout(width='100%', height='100px'))\n",
    "                display(new_input)\n",
    "            else:\n",
    "                print(\"Failed to get a response from the model\")\n",
    "        else:\n",
    "            print(\"No message to send\")\n",
    "\n",
    "# Attach event handlers\n",
    "dataset_button.on_click(on_dataset_button_clicked)\n",
    "train_button.on_click(on_train_button_clicked)\n",
    "test_button.on_click(on_test_button_clicked)\n",
    "save_button.on_click(on_save_button_clicked)\n",
    "create_vector_store_button.on_click(on_create_vector_store_button_clicked)\n",
    "upload_files_button.on_click(on_upload_files_button_clicked)\n",
    "update_assistant_button.on_click(on_update_assistant_button_clicked)\n",
    "send_message_button.on_click(on_send_message_button_clicked)\n"
   ]
  },
  {
   "cell_type": "code",
   "execution_count": null,
   "id": "b006da6e-455c-408b-a4a1-4a4f94f51319",
   "metadata": {},
   "outputs": [],
   "source": []
  }
 ],
 "metadata": {
  "kernelspec": {
   "display_name": "Python 3 (ipykernel)",
   "language": "python",
   "name": "python3"
  },
  "language_info": {
   "codemirror_mode": {
    "name": "ipython",
    "version": 3
   },
   "file_extension": ".py",
   "mimetype": "text/x-python",
   "name": "python",
   "nbconvert_exporter": "python",
   "pygments_lexer": "ipython3",
   "version": "3.12.4"
  }
 },
 "nbformat": 4,
 "nbformat_minor": 5
}
